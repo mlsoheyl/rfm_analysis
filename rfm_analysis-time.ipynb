{
 "cells": [
  {
   "cell_type": "markdown",
   "id": "8d98343b",
   "metadata": {
    "pycharm": {
     "name": "#%% md\n"
    }
   },
   "source": [
    "# Initialization"
   ]
  },
  {
   "cell_type": "code",
   "execution_count": 1,
   "id": "fdd3b7c3",
   "metadata": {
    "pycharm": {
     "name": "#%%\n"
    }
   },
   "outputs": [],
   "source": [
    "import numpy as np\n",
    "import pandas as pd\n",
    "import time\n",
    "import io"
   ]
  },
  {
   "cell_type": "code",
   "execution_count": 2,
   "id": "cdf6c832",
   "metadata": {
    "pycharm": {
     "name": "#%%\n"
    }
   },
   "outputs": [],
   "source": [
    "tic = time.time()"
   ]
  },
  {
   "cell_type": "markdown",
   "id": "f0a2316a",
   "metadata": {
    "pycharm": {
     "name": "#%% md\n"
    }
   },
   "source": [
    "# Load Data"
   ]
  },
  {
   "cell_type": "code",
   "execution_count": 3,
   "id": "95185879",
   "metadata": {
    "pycharm": {
     "name": "#%%\n"
    }
   },
   "outputs": [],
   "source": [
    "df = pd.read_csv('PreprocessingData.csv')"
   ]
  },
  {
   "cell_type": "markdown",
   "id": "a1e6f182",
   "metadata": {
    "pycharm": {
     "name": "#%% md\n"
    }
   },
   "source": [
    "# Data Understanding"
   ]
  },
  {
   "cell_type": "code",
   "execution_count": 4,
   "id": "77d437ec",
   "metadata": {
    "pycharm": {
     "name": "#%%\n"
    }
   },
   "outputs": [
    {
     "data": {
      "text/html": [
       "<div>\n",
       "<style scoped>\n",
       "    .dataframe tbody tr th:only-of-type {\n",
       "        vertical-align: middle;\n",
       "    }\n",
       "\n",
       "    .dataframe tbody tr th {\n",
       "        vertical-align: top;\n",
       "    }\n",
       "\n",
       "    .dataframe thead th {\n",
       "        text-align: right;\n",
       "    }\n",
       "</style>\n",
       "<table border=\"1\" class=\"dataframe\">\n",
       "  <thead>\n",
       "    <tr style=\"text-align: right;\">\n",
       "      <th></th>\n",
       "      <th>user_id</th>\n",
       "      <th>gender</th>\n",
       "      <th>city</th>\n",
       "      <th>payment_amount</th>\n",
       "      <th>payment_date</th>\n",
       "    </tr>\n",
       "  </thead>\n",
       "  <tbody>\n",
       "    <tr>\n",
       "      <th>0</th>\n",
       "      <td>200806</td>\n",
       "      <td>زن</td>\n",
       "      <td>تهران</td>\n",
       "      <td>1540000</td>\n",
       "      <td>2017-09-09</td>\n",
       "    </tr>\n",
       "    <tr>\n",
       "      <th>1</th>\n",
       "      <td>200806</td>\n",
       "      <td>زن</td>\n",
       "      <td>تهران</td>\n",
       "      <td>1510000</td>\n",
       "      <td>2017-09-01</td>\n",
       "    </tr>\n",
       "    <tr>\n",
       "      <th>2</th>\n",
       "      <td>11156</td>\n",
       "      <td>مرد</td>\n",
       "      <td>اصفهان</td>\n",
       "      <td>43200000</td>\n",
       "      <td>2016-05-21</td>\n",
       "    </tr>\n",
       "    <tr>\n",
       "      <th>3</th>\n",
       "      <td>200806</td>\n",
       "      <td>زن</td>\n",
       "      <td>تهران</td>\n",
       "      <td>1260000</td>\n",
       "      <td>2017-07-18</td>\n",
       "    </tr>\n",
       "    <tr>\n",
       "      <th>4</th>\n",
       "      <td>245638</td>\n",
       "      <td>مرد</td>\n",
       "      <td>تهران</td>\n",
       "      <td>1240000</td>\n",
       "      <td>2018-02-02</td>\n",
       "    </tr>\n",
       "  </tbody>\n",
       "</table>\n",
       "</div>"
      ],
      "text/plain": [
       "   user_id gender    city  payment_amount payment_date\n",
       "0   200806     زن   تهران         1540000   2017-09-09\n",
       "1   200806     زن   تهران         1510000   2017-09-01\n",
       "2    11156    مرد  اصفهان        43200000   2016-05-21\n",
       "3   200806     زن   تهران         1260000   2017-07-18\n",
       "4   245638    مرد   تهران         1240000   2018-02-02"
      ]
     },
     "execution_count": 4,
     "metadata": {},
     "output_type": "execute_result"
    }
   ],
   "source": [
    "df.head()"
   ]
  },
  {
   "cell_type": "code",
   "execution_count": 5,
   "id": "f59a2b07",
   "metadata": {
    "pycharm": {
     "name": "#%%\n"
    }
   },
   "outputs": [
    {
     "data": {
      "text/html": [
       "<div>\n",
       "<style scoped>\n",
       "    .dataframe tbody tr th:only-of-type {\n",
       "        vertical-align: middle;\n",
       "    }\n",
       "\n",
       "    .dataframe tbody tr th {\n",
       "        vertical-align: top;\n",
       "    }\n",
       "\n",
       "    .dataframe thead th {\n",
       "        text-align: right;\n",
       "    }\n",
       "</style>\n",
       "<table border=\"1\" class=\"dataframe\">\n",
       "  <thead>\n",
       "    <tr style=\"text-align: right;\">\n",
       "      <th></th>\n",
       "      <th>payment_amount</th>\n",
       "    </tr>\n",
       "  </thead>\n",
       "  <tbody>\n",
       "    <tr>\n",
       "      <th>count</th>\n",
       "      <td>1.490804e+06</td>\n",
       "    </tr>\n",
       "    <tr>\n",
       "      <th>mean</th>\n",
       "      <td>9.667401e+05</td>\n",
       "    </tr>\n",
       "    <tr>\n",
       "      <th>std</th>\n",
       "      <td>9.343177e+06</td>\n",
       "    </tr>\n",
       "    <tr>\n",
       "      <th>min</th>\n",
       "      <td>-2.147484e+09</td>\n",
       "    </tr>\n",
       "    <tr>\n",
       "      <th>25%</th>\n",
       "      <td>2.000000e+04</td>\n",
       "    </tr>\n",
       "    <tr>\n",
       "      <th>50%</th>\n",
       "      <td>1.500000e+05</td>\n",
       "    </tr>\n",
       "    <tr>\n",
       "      <th>75%</th>\n",
       "      <td>8.481000e+05</td>\n",
       "    </tr>\n",
       "    <tr>\n",
       "      <th>max</th>\n",
       "      <td>1.761294e+09</td>\n",
       "    </tr>\n",
       "  </tbody>\n",
       "</table>\n",
       "</div>"
      ],
      "text/plain": [
       "       payment_amount\n",
       "count    1.490804e+06\n",
       "mean     9.667401e+05\n",
       "std      9.343177e+06\n",
       "min     -2.147484e+09\n",
       "25%      2.000000e+04\n",
       "50%      1.500000e+05\n",
       "75%      8.481000e+05\n",
       "max      1.761294e+09"
      ]
     },
     "execution_count": 5,
     "metadata": {},
     "output_type": "execute_result"
    }
   ],
   "source": [
    "df.drop('user_id', axis=1).describe()"
   ]
  },
  {
   "cell_type": "markdown",
   "id": "63d822d1",
   "metadata": {
    "pycharm": {
     "name": "#%% md\n"
    }
   },
   "source": [
    "## Show is null"
   ]
  },
  {
   "cell_type": "code",
   "execution_count": 6,
   "id": "ca60159c",
   "metadata": {
    "pycharm": {
     "name": "#%%\n"
    }
   },
   "outputs": [
    {
     "data": {
      "text/plain": [
       "user_id             0\n",
       "gender            951\n",
       "city                0\n",
       "payment_amount      0\n",
       "payment_date        0\n",
       "dtype: int64"
      ]
     },
     "execution_count": 6,
     "metadata": {},
     "output_type": "execute_result"
    }
   ],
   "source": [
    "df.isnull().sum()"
   ]
  },
  {
   "cell_type": "markdown",
   "id": "ec81dad2",
   "metadata": {
    "pycharm": {
     "name": "#%% md\n"
    }
   },
   "source": [
    "# Data Cleaning"
   ]
  },
  {
   "cell_type": "markdown",
   "id": "6743cdc0",
   "metadata": {
    "pycharm": {
     "name": "#%% md\n"
    }
   },
   "source": [
    "## Remove negative amount"
   ]
  },
  {
   "cell_type": "code",
   "execution_count": 7,
   "id": "15aa8113",
   "metadata": {
    "pycharm": {
     "name": "#%%\n"
    }
   },
   "outputs": [],
   "source": [
    "clean_pdf = df[df.payment_amount > 0]"
   ]
  },
  {
   "cell_type": "markdown",
   "id": "24dd411a",
   "metadata": {
    "pycharm": {
     "name": "#%% md\n"
    }
   },
   "source": [
    "# Change type of date column and create recency column"
   ]
  },
  {
   "cell_type": "code",
   "execution_count": 8,
   "id": "c971b841",
   "metadata": {
    "pycharm": {
     "name": "#%%\n"
    }
   },
   "outputs": [],
   "source": [
    "max_payment_date = clean_pdf.payment_date.max()\n",
    "min_payment_date = clean_pdf.payment_date.min()"
   ]
  },
  {
   "cell_type": "code",
   "execution_count": 9,
   "id": "89bb766c",
   "metadata": {
    "pycharm": {
     "name": "#%%\n"
    }
   },
   "outputs": [
    {
     "name": "stderr",
     "output_type": "stream",
     "text": [
      "C:\\Users\\azimi\\AppData\\Local\\Temp\\ipykernel_14120\\2769625300.py:1: SettingWithCopyWarning: \n",
      "A value is trying to be set on a copy of a slice from a DataFrame.\n",
      "Try using .loc[row_indexer,col_indexer] = value instead\n",
      "\n",
      "See the caveats in the documentation: https://pandas.pydata.org/pandas-docs/stable/user_guide/indexing.html#returning-a-view-versus-a-copy\n",
      "  clean_pdf.loc[:, 'transaction_recency'] = pd.to_datetime(max_payment_date) - pd.to_datetime(clean_pdf.payment_date)\n"
     ]
    }
   ],
   "source": [
    "clean_pdf.loc[:, 'transaction_recency'] = pd.to_datetime(max_payment_date) - pd.to_datetime(clean_pdf.payment_date)"
   ]
  },
  {
   "cell_type": "code",
   "execution_count": 10,
   "id": "e7361e8a",
   "metadata": {
    "pycharm": {
     "name": "#%%\n"
    }
   },
   "outputs": [
    {
     "data": {
      "text/plain": [
       "'2018-09-08'"
      ]
     },
     "execution_count": 10,
     "metadata": {},
     "output_type": "execute_result"
    }
   ],
   "source": [
    "max_payment_date"
   ]
  },
  {
   "cell_type": "code",
   "execution_count": 11,
   "id": "3d78d0d2",
   "metadata": {
    "pycharm": {
     "name": "#%%\n"
    }
   },
   "outputs": [],
   "source": [
    "week_series = pd.period_range(start=min_payment_date, end='2018-10-08', freq='W-FRI')"
   ]
  },
  {
   "cell_type": "code",
   "execution_count": 12,
   "id": "4c0c3138",
   "metadata": {
    "pycharm": {
     "name": "#%%\n"
    }
   },
   "outputs": [
    {
     "data": {
      "text/plain": [
       "'2018-09-08'"
      ]
     },
     "execution_count": 12,
     "metadata": {},
     "output_type": "execute_result"
    }
   ],
   "source": [
    "max_payment_date"
   ]
  },
  {
   "cell_type": "code",
   "execution_count": 13,
   "id": "dda0b683",
   "metadata": {
    "pycharm": {
     "name": "#%%\n"
    }
   },
   "outputs": [],
   "source": [
    "temp_df = pd.DataFrame(data={'start_time': week_series.start_time, 'end_time': week_series.end_time })"
   ]
  },
  {
   "cell_type": "code",
   "execution_count": 14,
   "id": "eba7aa24",
   "metadata": {
    "pycharm": {
     "name": "#%%\n"
    }
   },
   "outputs": [],
   "source": [
    "temp_df.loc[:, 'new_end_time'] = temp_df.end_time.shift(periods=-3)"
   ]
  },
  {
   "cell_type": "code",
   "execution_count": 15,
   "id": "fd36179e",
   "metadata": {
    "pycharm": {
     "name": "#%%\n"
    }
   },
   "outputs": [],
   "source": [
    "temp_df = temp_df.dropna()"
   ]
  },
  {
   "cell_type": "code",
   "execution_count": 16,
   "id": "4e7f5fd3",
   "metadata": {
    "pycharm": {
     "name": "#%%\n"
    }
   },
   "outputs": [
    {
     "data": {
      "text/html": [
       "<div>\n",
       "<style scoped>\n",
       "    .dataframe tbody tr th:only-of-type {\n",
       "        vertical-align: middle;\n",
       "    }\n",
       "\n",
       "    .dataframe tbody tr th {\n",
       "        vertical-align: top;\n",
       "    }\n",
       "\n",
       "    .dataframe thead th {\n",
       "        text-align: right;\n",
       "    }\n",
       "</style>\n",
       "<table border=\"1\" class=\"dataframe\">\n",
       "  <thead>\n",
       "    <tr style=\"text-align: right;\">\n",
       "      <th></th>\n",
       "      <th>start_time</th>\n",
       "      <th>end_time</th>\n",
       "      <th>new_end_time</th>\n",
       "    </tr>\n",
       "  </thead>\n",
       "  <tbody>\n",
       "    <tr>\n",
       "      <th>0</th>\n",
       "      <td>2016-03-19</td>\n",
       "      <td>2016-03-25 23:59:59.999999999</td>\n",
       "      <td>2016-04-15 23:59:59.999999999</td>\n",
       "    </tr>\n",
       "    <tr>\n",
       "      <th>1</th>\n",
       "      <td>2016-03-26</td>\n",
       "      <td>2016-04-01 23:59:59.999999999</td>\n",
       "      <td>2016-04-22 23:59:59.999999999</td>\n",
       "    </tr>\n",
       "    <tr>\n",
       "      <th>2</th>\n",
       "      <td>2016-04-02</td>\n",
       "      <td>2016-04-08 23:59:59.999999999</td>\n",
       "      <td>2016-04-29 23:59:59.999999999</td>\n",
       "    </tr>\n",
       "    <tr>\n",
       "      <th>3</th>\n",
       "      <td>2016-04-09</td>\n",
       "      <td>2016-04-15 23:59:59.999999999</td>\n",
       "      <td>2016-05-06 23:59:59.999999999</td>\n",
       "    </tr>\n",
       "    <tr>\n",
       "      <th>4</th>\n",
       "      <td>2016-04-16</td>\n",
       "      <td>2016-04-22 23:59:59.999999999</td>\n",
       "      <td>2016-05-13 23:59:59.999999999</td>\n",
       "    </tr>\n",
       "    <tr>\n",
       "      <th>5</th>\n",
       "      <td>2016-04-23</td>\n",
       "      <td>2016-04-29 23:59:59.999999999</td>\n",
       "      <td>2016-05-20 23:59:59.999999999</td>\n",
       "    </tr>\n",
       "    <tr>\n",
       "      <th>6</th>\n",
       "      <td>2016-04-30</td>\n",
       "      <td>2016-05-06 23:59:59.999999999</td>\n",
       "      <td>2016-05-27 23:59:59.999999999</td>\n",
       "    </tr>\n",
       "    <tr>\n",
       "      <th>7</th>\n",
       "      <td>2016-05-07</td>\n",
       "      <td>2016-05-13 23:59:59.999999999</td>\n",
       "      <td>2016-06-03 23:59:59.999999999</td>\n",
       "    </tr>\n",
       "    <tr>\n",
       "      <th>8</th>\n",
       "      <td>2016-05-14</td>\n",
       "      <td>2016-05-20 23:59:59.999999999</td>\n",
       "      <td>2016-06-10 23:59:59.999999999</td>\n",
       "    </tr>\n",
       "    <tr>\n",
       "      <th>9</th>\n",
       "      <td>2016-05-21</td>\n",
       "      <td>2016-05-27 23:59:59.999999999</td>\n",
       "      <td>2016-06-17 23:59:59.999999999</td>\n",
       "    </tr>\n",
       "  </tbody>\n",
       "</table>\n",
       "</div>"
      ],
      "text/plain": [
       "  start_time                      end_time                  new_end_time\n",
       "0 2016-03-19 2016-03-25 23:59:59.999999999 2016-04-15 23:59:59.999999999\n",
       "1 2016-03-26 2016-04-01 23:59:59.999999999 2016-04-22 23:59:59.999999999\n",
       "2 2016-04-02 2016-04-08 23:59:59.999999999 2016-04-29 23:59:59.999999999\n",
       "3 2016-04-09 2016-04-15 23:59:59.999999999 2016-05-06 23:59:59.999999999\n",
       "4 2016-04-16 2016-04-22 23:59:59.999999999 2016-05-13 23:59:59.999999999\n",
       "5 2016-04-23 2016-04-29 23:59:59.999999999 2016-05-20 23:59:59.999999999\n",
       "6 2016-04-30 2016-05-06 23:59:59.999999999 2016-05-27 23:59:59.999999999\n",
       "7 2016-05-07 2016-05-13 23:59:59.999999999 2016-06-03 23:59:59.999999999\n",
       "8 2016-05-14 2016-05-20 23:59:59.999999999 2016-06-10 23:59:59.999999999\n",
       "9 2016-05-21 2016-05-27 23:59:59.999999999 2016-06-17 23:59:59.999999999"
      ]
     },
     "execution_count": 16,
     "metadata": {},
     "output_type": "execute_result"
    }
   ],
   "source": [
    "temp_df.head(10)"
   ]
  },
  {
   "cell_type": "code",
   "execution_count": 17,
   "id": "0b44061a",
   "metadata": {
    "pycharm": {
     "name": "#%%\n"
    }
   },
   "outputs": [],
   "source": [
    "temp_df.loc[:, 'week_no'] = temp_df.index"
   ]
  },
  {
   "cell_type": "code",
   "execution_count": 18,
   "id": "19e4deb4",
   "metadata": {
    "pycharm": {
     "name": "#%%\n"
    }
   },
   "outputs": [
    {
     "data": {
      "text/html": [
       "<div>\n",
       "<style scoped>\n",
       "    .dataframe tbody tr th:only-of-type {\n",
       "        vertical-align: middle;\n",
       "    }\n",
       "\n",
       "    .dataframe tbody tr th {\n",
       "        vertical-align: top;\n",
       "    }\n",
       "\n",
       "    .dataframe thead th {\n",
       "        text-align: right;\n",
       "    }\n",
       "</style>\n",
       "<table border=\"1\" class=\"dataframe\">\n",
       "  <thead>\n",
       "    <tr style=\"text-align: right;\">\n",
       "      <th></th>\n",
       "      <th>start_time</th>\n",
       "      <th>end_time</th>\n",
       "      <th>new_end_time</th>\n",
       "      <th>week_no</th>\n",
       "    </tr>\n",
       "  </thead>\n",
       "  <tbody>\n",
       "    <tr>\n",
       "      <th>67</th>\n",
       "      <td>2017-07-01</td>\n",
       "      <td>2017-07-07 23:59:59.999999999</td>\n",
       "      <td>2017-07-28 23:59:59.999999999</td>\n",
       "      <td>67</td>\n",
       "    </tr>\n",
       "    <tr>\n",
       "      <th>68</th>\n",
       "      <td>2017-07-08</td>\n",
       "      <td>2017-07-14 23:59:59.999999999</td>\n",
       "      <td>2017-08-04 23:59:59.999999999</td>\n",
       "      <td>68</td>\n",
       "    </tr>\n",
       "    <tr>\n",
       "      <th>69</th>\n",
       "      <td>2017-07-15</td>\n",
       "      <td>2017-07-21 23:59:59.999999999</td>\n",
       "      <td>2017-08-11 23:59:59.999999999</td>\n",
       "      <td>69</td>\n",
       "    </tr>\n",
       "    <tr>\n",
       "      <th>70</th>\n",
       "      <td>2017-07-22</td>\n",
       "      <td>2017-07-28 23:59:59.999999999</td>\n",
       "      <td>2017-08-18 23:59:59.999999999</td>\n",
       "      <td>70</td>\n",
       "    </tr>\n",
       "  </tbody>\n",
       "</table>\n",
       "</div>"
      ],
      "text/plain": [
       "   start_time                      end_time                  new_end_time  \\\n",
       "67 2017-07-01 2017-07-07 23:59:59.999999999 2017-07-28 23:59:59.999999999   \n",
       "68 2017-07-08 2017-07-14 23:59:59.999999999 2017-08-04 23:59:59.999999999   \n",
       "69 2017-07-15 2017-07-21 23:59:59.999999999 2017-08-11 23:59:59.999999999   \n",
       "70 2017-07-22 2017-07-28 23:59:59.999999999 2017-08-18 23:59:59.999999999   \n",
       "\n",
       "    week_no  \n",
       "67       67  \n",
       "68       68  \n",
       "69       69  \n",
       "70       70  "
      ]
     },
     "execution_count": 18,
     "metadata": {},
     "output_type": "execute_result"
    }
   ],
   "source": [
    "temp_df[(temp_df.start_time < '2017-07-26') & (temp_df.new_end_time > '2017-07-26')]"
   ]
  },
  {
   "cell_type": "code",
   "execution_count": 56,
   "id": "bed90fb0",
   "metadata": {
    "pycharm": {
     "name": "#%%\n"
    }
   },
   "outputs": [],
   "source": [
    "def get_period_number(date):\n",
    "    num = temp_df[(temp_df.start_time < date) & (temp_df.new_end_time > date)]\n",
    "    return num['week_no'].values.tolist()"
   ]
  },
  {
   "cell_type": "code",
   "execution_count": 57,
   "id": "62836668",
   "metadata": {
    "pycharm": {
     "name": "#%%\n"
    }
   },
   "outputs": [
    {
     "name": "stdout",
     "output_type": "stream",
     "text": [
      "[67, 68, 69, 70]\n"
     ]
    }
   ],
   "source": [
    "print(get_period_number('2017-07-26'))"
   ]
  },
  {
   "cell_type": "code",
   "execution_count": 59,
   "id": "19555d8c",
   "metadata": {
    "pycharm": {
     "name": "#%%\n"
    }
   },
   "outputs": [
    {
     "data": {
      "text/html": [
       "<div>\n",
       "<style scoped>\n",
       "    .dataframe tbody tr th:only-of-type {\n",
       "        vertical-align: middle;\n",
       "    }\n",
       "\n",
       "    .dataframe tbody tr th {\n",
       "        vertical-align: top;\n",
       "    }\n",
       "\n",
       "    .dataframe thead th {\n",
       "        text-align: right;\n",
       "    }\n",
       "</style>\n",
       "<table border=\"1\" class=\"dataframe\">\n",
       "  <thead>\n",
       "    <tr style=\"text-align: right;\">\n",
       "      <th></th>\n",
       "      <th>user_id</th>\n",
       "      <th>gender</th>\n",
       "      <th>city</th>\n",
       "      <th>payment_amount</th>\n",
       "      <th>payment_date</th>\n",
       "      <th>transaction_recency</th>\n",
       "    </tr>\n",
       "  </thead>\n",
       "  <tbody>\n",
       "    <tr>\n",
       "      <th>1</th>\n",
       "      <td>200806</td>\n",
       "      <td>زن</td>\n",
       "      <td>تهران</td>\n",
       "      <td>1510000</td>\n",
       "      <td>2017-09-01</td>\n",
       "      <td>372 days</td>\n",
       "    </tr>\n",
       "    <tr>\n",
       "      <th>2</th>\n",
       "      <td>11156</td>\n",
       "      <td>مرد</td>\n",
       "      <td>اصفهان</td>\n",
       "      <td>43200000</td>\n",
       "      <td>2016-05-21</td>\n",
       "      <td>840 days</td>\n",
       "    </tr>\n",
       "    <tr>\n",
       "      <th>3</th>\n",
       "      <td>200806</td>\n",
       "      <td>زن</td>\n",
       "      <td>تهران</td>\n",
       "      <td>1260000</td>\n",
       "      <td>2017-07-18</td>\n",
       "      <td>417 days</td>\n",
       "    </tr>\n",
       "    <tr>\n",
       "      <th>4</th>\n",
       "      <td>245638</td>\n",
       "      <td>مرد</td>\n",
       "      <td>تهران</td>\n",
       "      <td>1240000</td>\n",
       "      <td>2018-02-02</td>\n",
       "      <td>218 days</td>\n",
       "    </tr>\n",
       "    <tr>\n",
       "      <th>5</th>\n",
       "      <td>239954</td>\n",
       "      <td>مرد</td>\n",
       "      <td>اصفهان</td>\n",
       "      <td>1030000</td>\n",
       "      <td>2018-02-18</td>\n",
       "      <td>202 days</td>\n",
       "    </tr>\n",
       "    <tr>\n",
       "      <th>6</th>\n",
       "      <td>22879</td>\n",
       "      <td>مرد</td>\n",
       "      <td>هرمزگان</td>\n",
       "      <td>129622500</td>\n",
       "      <td>2018-02-06</td>\n",
       "      <td>214 days</td>\n",
       "    </tr>\n",
       "    <tr>\n",
       "      <th>7</th>\n",
       "      <td>8906</td>\n",
       "      <td>زن</td>\n",
       "      <td>تهران</td>\n",
       "      <td>93994000</td>\n",
       "      <td>2018-05-09</td>\n",
       "      <td>122 days</td>\n",
       "    </tr>\n",
       "    <tr>\n",
       "      <th>8</th>\n",
       "      <td>91728</td>\n",
       "      <td>مرد</td>\n",
       "      <td>البرز</td>\n",
       "      <td>900000</td>\n",
       "      <td>2017-04-23</td>\n",
       "      <td>503 days</td>\n",
       "    </tr>\n",
       "    <tr>\n",
       "      <th>9</th>\n",
       "      <td>200806</td>\n",
       "      <td>زن</td>\n",
       "      <td>تهران</td>\n",
       "      <td>900000</td>\n",
       "      <td>2017-05-27</td>\n",
       "      <td>469 days</td>\n",
       "    </tr>\n",
       "    <tr>\n",
       "      <th>10</th>\n",
       "      <td>22879</td>\n",
       "      <td>مرد</td>\n",
       "      <td>هرمزگان</td>\n",
       "      <td>160397000</td>\n",
       "      <td>2018-05-30</td>\n",
       "      <td>101 days</td>\n",
       "    </tr>\n",
       "  </tbody>\n",
       "</table>\n",
       "</div>"
      ],
      "text/plain": [
       "    user_id gender     city  payment_amount payment_date transaction_recency\n",
       "1    200806     زن    تهران         1510000   2017-09-01            372 days\n",
       "2     11156    مرد   اصفهان        43200000   2016-05-21            840 days\n",
       "3    200806     زن    تهران         1260000   2017-07-18            417 days\n",
       "4    245638    مرد    تهران         1240000   2018-02-02            218 days\n",
       "5    239954    مرد   اصفهان         1030000   2018-02-18            202 days\n",
       "6     22879    مرد  هرمزگان       129622500   2018-02-06            214 days\n",
       "7      8906     زن    تهران        93994000   2018-05-09            122 days\n",
       "8     91728    مرد    البرز          900000   2017-04-23            503 days\n",
       "9    200806     زن    تهران          900000   2017-05-27            469 days\n",
       "10    22879    مرد  هرمزگان       160397000   2018-05-30            101 days"
      ]
     },
     "execution_count": 59,
     "metadata": {},
     "output_type": "execute_result"
    }
   ],
   "source": [
    "# test_pdf = clean_pdf.loc[1:10, :]\n",
    "# test_pdf"
   ]
  },
  {
   "cell_type": "code",
   "execution_count": null,
   "id": "411b6dec",
   "metadata": {
    "pycharm": {
     "name": "#%%\n"
    }
   },
   "outputs": [],
   "source": [
    "clean_pdf.loc[:, 'week_no'] = clean_pdf.payment_date.apply(get_period_number)"
   ]
  },
  {
   "cell_type": "code",
   "execution_count": 60,
   "id": "08c53f8a",
   "metadata": {
    "pycharm": {
     "name": "#%%\n"
    }
   },
   "outputs": [
    {
     "name": "stderr",
     "output_type": "stream",
     "text": [
      "C:\\Users\\azimi\\AppData\\Local\\Temp\\ipykernel_14120\\2891464066.py:1: SettingWithCopyWarning: \n",
      "A value is trying to be set on a copy of a slice from a DataFrame.\n",
      "Try using .loc[row_indexer,col_indexer] = value instead\n",
      "\n",
      "See the caveats in the documentation: https://pandas.pydata.org/pandas-docs/stable/user_guide/indexing.html#returning-a-view-versus-a-copy\n",
      "  test_pdf.loc[:, 'week_no'] = test_pdf.payment_date.apply(get_period_number)\n"
     ]
    }
   ],
   "source": [
    "# test_pdf.loc[:, 'week_no'] = test_pdf.payment_date.apply(get_period_number)"
   ]
  },
  {
   "cell_type": "code",
   "execution_count": 61,
   "id": "20e686ef",
   "metadata": {
    "pycharm": {
     "name": "#%%\n"
    }
   },
   "outputs": [
    {
     "data": {
      "text/html": [
       "<div>\n",
       "<style scoped>\n",
       "    .dataframe tbody tr th:only-of-type {\n",
       "        vertical-align: middle;\n",
       "    }\n",
       "\n",
       "    .dataframe tbody tr th {\n",
       "        vertical-align: top;\n",
       "    }\n",
       "\n",
       "    .dataframe thead th {\n",
       "        text-align: right;\n",
       "    }\n",
       "</style>\n",
       "<table border=\"1\" class=\"dataframe\">\n",
       "  <thead>\n",
       "    <tr style=\"text-align: right;\">\n",
       "      <th></th>\n",
       "      <th>user_id</th>\n",
       "      <th>gender</th>\n",
       "      <th>city</th>\n",
       "      <th>payment_amount</th>\n",
       "      <th>payment_date</th>\n",
       "      <th>transaction_recency</th>\n",
       "      <th>week_no</th>\n",
       "    </tr>\n",
       "  </thead>\n",
       "  <tbody>\n",
       "    <tr>\n",
       "      <th>1</th>\n",
       "      <td>200806</td>\n",
       "      <td>زن</td>\n",
       "      <td>تهران</td>\n",
       "      <td>1510000</td>\n",
       "      <td>2017-09-01</td>\n",
       "      <td>372 days</td>\n",
       "      <td>[72, 73, 74, 75]</td>\n",
       "    </tr>\n",
       "    <tr>\n",
       "      <th>2</th>\n",
       "      <td>11156</td>\n",
       "      <td>مرد</td>\n",
       "      <td>اصفهان</td>\n",
       "      <td>43200000</td>\n",
       "      <td>2016-05-21</td>\n",
       "      <td>840 days</td>\n",
       "      <td>[6, 7, 8]</td>\n",
       "    </tr>\n",
       "    <tr>\n",
       "      <th>3</th>\n",
       "      <td>200806</td>\n",
       "      <td>زن</td>\n",
       "      <td>تهران</td>\n",
       "      <td>1260000</td>\n",
       "      <td>2017-07-18</td>\n",
       "      <td>417 days</td>\n",
       "      <td>[66, 67, 68, 69]</td>\n",
       "    </tr>\n",
       "    <tr>\n",
       "      <th>4</th>\n",
       "      <td>245638</td>\n",
       "      <td>مرد</td>\n",
       "      <td>تهران</td>\n",
       "      <td>1240000</td>\n",
       "      <td>2018-02-02</td>\n",
       "      <td>218 days</td>\n",
       "      <td>[94, 95, 96, 97]</td>\n",
       "    </tr>\n",
       "    <tr>\n",
       "      <th>5</th>\n",
       "      <td>239954</td>\n",
       "      <td>مرد</td>\n",
       "      <td>اصفهان</td>\n",
       "      <td>1030000</td>\n",
       "      <td>2018-02-18</td>\n",
       "      <td>202 days</td>\n",
       "      <td>[97, 98, 99, 100]</td>\n",
       "    </tr>\n",
       "    <tr>\n",
       "      <th>6</th>\n",
       "      <td>22879</td>\n",
       "      <td>مرد</td>\n",
       "      <td>هرمزگان</td>\n",
       "      <td>129622500</td>\n",
       "      <td>2018-02-06</td>\n",
       "      <td>214 days</td>\n",
       "      <td>[95, 96, 97, 98]</td>\n",
       "    </tr>\n",
       "    <tr>\n",
       "      <th>7</th>\n",
       "      <td>8906</td>\n",
       "      <td>زن</td>\n",
       "      <td>تهران</td>\n",
       "      <td>93994000</td>\n",
       "      <td>2018-05-09</td>\n",
       "      <td>122 days</td>\n",
       "      <td>[108, 109, 110, 111]</td>\n",
       "    </tr>\n",
       "    <tr>\n",
       "      <th>8</th>\n",
       "      <td>91728</td>\n",
       "      <td>مرد</td>\n",
       "      <td>البرز</td>\n",
       "      <td>900000</td>\n",
       "      <td>2017-04-23</td>\n",
       "      <td>503 days</td>\n",
       "      <td>[54, 55, 56, 57]</td>\n",
       "    </tr>\n",
       "    <tr>\n",
       "      <th>9</th>\n",
       "      <td>200806</td>\n",
       "      <td>زن</td>\n",
       "      <td>تهران</td>\n",
       "      <td>900000</td>\n",
       "      <td>2017-05-27</td>\n",
       "      <td>469 days</td>\n",
       "      <td>[59, 60, 61]</td>\n",
       "    </tr>\n",
       "    <tr>\n",
       "      <th>10</th>\n",
       "      <td>22879</td>\n",
       "      <td>مرد</td>\n",
       "      <td>هرمزگان</td>\n",
       "      <td>160397000</td>\n",
       "      <td>2018-05-30</td>\n",
       "      <td>101 days</td>\n",
       "      <td>[111, 112, 113, 114]</td>\n",
       "    </tr>\n",
       "  </tbody>\n",
       "</table>\n",
       "</div>"
      ],
      "text/plain": [
       "    user_id gender     city  payment_amount payment_date transaction_recency  \\\n",
       "1    200806     زن    تهران         1510000   2017-09-01            372 days   \n",
       "2     11156    مرد   اصفهان        43200000   2016-05-21            840 days   \n",
       "3    200806     زن    تهران         1260000   2017-07-18            417 days   \n",
       "4    245638    مرد    تهران         1240000   2018-02-02            218 days   \n",
       "5    239954    مرد   اصفهان         1030000   2018-02-18            202 days   \n",
       "6     22879    مرد  هرمزگان       129622500   2018-02-06            214 days   \n",
       "7      8906     زن    تهران        93994000   2018-05-09            122 days   \n",
       "8     91728    مرد    البرز          900000   2017-04-23            503 days   \n",
       "9    200806     زن    تهران          900000   2017-05-27            469 days   \n",
       "10    22879    مرد  هرمزگان       160397000   2018-05-30            101 days   \n",
       "\n",
       "                 week_no  \n",
       "1       [72, 73, 74, 75]  \n",
       "2              [6, 7, 8]  \n",
       "3       [66, 67, 68, 69]  \n",
       "4       [94, 95, 96, 97]  \n",
       "5      [97, 98, 99, 100]  \n",
       "6       [95, 96, 97, 98]  \n",
       "7   [108, 109, 110, 111]  \n",
       "8       [54, 55, 56, 57]  \n",
       "9           [59, 60, 61]  \n",
       "10  [111, 112, 113, 114]  "
      ]
     },
     "execution_count": 61,
     "metadata": {},
     "output_type": "execute_result"
    }
   ],
   "source": [
    "test_pdf"
   ]
  },
  {
   "cell_type": "code",
   "execution_count": null,
   "id": "1bde1387",
   "metadata": {
    "pycharm": {
     "name": "#%%\n"
    }
   },
   "outputs": [],
   "source": []
  },
  {
   "cell_type": "markdown",
   "id": "7ec820f0",
   "metadata": {
    "pycharm": {
     "name": "#%% md\n"
    }
   },
   "source": [
    "# RFM Analysis"
   ]
  },
  {
   "cell_type": "code",
   "execution_count": 24,
   "id": "6222307c",
   "metadata": {
    "pycharm": {
     "name": "#%%\n"
    }
   },
   "outputs": [],
   "source": [
    "rfm_df = clean_pdf.groupby(\"user_id\").agg(\n",
    "    R=pd.NamedAgg(column=\"transaction_recency\", aggfunc=\"min\"),\n",
    "    F=pd.NamedAgg(column=\"user_id\", aggfunc=\"count\"),\n",
    "    M=pd.NamedAgg(column=\"payment_amount\", aggfunc=\"sum\"),\n",
    ")"
   ]
  },
  {
   "cell_type": "code",
   "execution_count": 25,
   "id": "aa09d828",
   "metadata": {
    "pycharm": {
     "name": "#%%\n"
    }
   },
   "outputs": [],
   "source": [
    "import os"
   ]
  },
  {
   "cell_type": "code",
   "execution_count": 26,
   "id": "6e64829c",
   "metadata": {
    "pycharm": {
     "name": "#%%\n"
    }
   },
   "outputs": [
    {
     "data": {
      "text/plain": [
       "False"
      ]
     },
     "execution_count": 26,
     "metadata": {},
     "output_type": "execute_result"
    }
   ],
   "source": [
    "os.path.isdir(r'\\RFM')"
   ]
  },
  {
   "cell_type": "code",
   "execution_count": 27,
   "id": "220bdde5",
   "metadata": {
    "pycharm": {
     "name": "#%%\n"
    }
   },
   "outputs": [],
   "source": [
    "rfm_df.to_parquet(path=r'\\RFM')"
   ]
  },
  {
   "cell_type": "code",
   "execution_count": 28,
   "id": "e58255d1",
   "metadata": {
    "pycharm": {
     "name": "#%%\n"
    }
   },
   "outputs": [
    {
     "name": "stdout",
     "output_type": "stream",
     "text": [
      "2.7979016304016113\n"
     ]
    }
   ],
   "source": [
    "print(time.time() - tic)"
   ]
  }
 ],
 "metadata": {
  "kernelspec": {
   "display_name": "Python 3 (ipykernel)",
   "language": "python",
   "name": "python3"
  },
  "language_info": {
   "codemirror_mode": {
    "name": "ipython",
    "version": 3
   },
   "file_extension": ".py",
   "mimetype": "text/x-python",
   "name": "python",
   "nbconvert_exporter": "python",
   "pygments_lexer": "ipython3",
   "version": "3.9.12"
  }
 },
 "nbformat": 4,
 "nbformat_minor": 5
}